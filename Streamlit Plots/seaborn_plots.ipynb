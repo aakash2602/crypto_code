{
 "cells": [
  {
   "cell_type": "code",
   "execution_count": 100,
   "metadata": {},
   "outputs": [
    {
     "data": {
      "text/plain": [
       "DeltaGenerator(_root_container=0, _provided_cursor=None, _parent=None, _block_type=None)"
      ]
     },
     "execution_count": 100,
     "metadata": {},
     "output_type": "execute_result"
    }
   ],
   "source": [
    "import pandas as pd\n",
    "import numpy as np\n",
    "import matplotlib.pyplot as plt\n",
    "import seaborn as sns\n",
    "import plotly.figure_factory as ff\n",
    "import streamlit as st\n",
    "import plotly.express as px\n"
   ]
  },
  {
   "cell_type": "code",
   "execution_count": 104,
   "metadata": {},
   "outputs": [
    {
     "data": {
      "text/plain": [
       "DeltaGenerator(_root_container=1, _provided_cursor=None, _parent=DeltaGenerator(_root_container=0, _provided_cursor=None, _parent=None, _block_type=None), _block_type=None)"
      ]
     },
     "execution_count": 104,
     "metadata": {},
     "output_type": "execute_result"
    }
   ],
   "source": [
    "st.title(\"Yearn Vault APYs\")\n",
    "st.markdown('The dashboard will visualize the Yearn vaults APYs from Apr\\'21')\n",
    "st.markdown('')\n",
    "st.sidebar.title(\"Visualization Selector\")\n",
    "st.sidebar.markdown(\"Select the Charts/Plots accordingly:\")"
   ]
  },
  {
   "cell_type": "code",
   "execution_count": 92,
   "metadata": {},
   "outputs": [
    {
     "data": {
      "text/html": [
       "<div>\n",
       "<style scoped>\n",
       "    .dataframe tbody tr th:only-of-type {\n",
       "        vertical-align: middle;\n",
       "    }\n",
       "\n",
       "    .dataframe tbody tr th {\n",
       "        vertical-align: top;\n",
       "    }\n",
       "\n",
       "    .dataframe thead th {\n",
       "        text-align: right;\n",
       "    }\n",
       "</style>\n",
       "<table border=\"1\" class=\"dataframe\">\n",
       "  <thead>\n",
       "    <tr style=\"text-align: right;\">\n",
       "      <th></th>\n",
       "      <th>vault_name</th>\n",
       "      <th>vault_type</th>\n",
       "      <th>vault_apy</th>\n",
       "      <th>vault_total_assets</th>\n",
       "    </tr>\n",
       "  </thead>\n",
       "  <tbody>\n",
       "    <tr>\n",
       "      <th>2021-04-19 04:38:37.925270</th>\n",
       "      <td>yveCRV - ETH</td>\n",
       "      <td>v1</td>\n",
       "      <td>0%</td>\n",
       "      <td>$12,366,520</td>\n",
       "    </tr>\n",
       "    <tr>\n",
       "      <th>2021-04-19 04:38:37.932958</th>\n",
       "      <td>yveCRV</td>\n",
       "      <td>v1</td>\n",
       "      <td>19.16%</td>\n",
       "      <td>$0</td>\n",
       "    </tr>\n",
       "    <tr>\n",
       "      <th>2021-04-19 04:38:37.937337</th>\n",
       "      <td>USDC</td>\n",
       "      <td>v2</td>\n",
       "      <td>16.48%</td>\n",
       "      <td>$125,785,880</td>\n",
       "    </tr>\n",
       "    <tr>\n",
       "      <th>2021-04-19 04:38:37.942564</th>\n",
       "      <td>crvIB</td>\n",
       "      <td>v2</td>\n",
       "      <td>30.02%</td>\n",
       "      <td>$135,500,556</td>\n",
       "    </tr>\n",
       "    <tr>\n",
       "      <th>2021-04-19 04:38:37.947768</th>\n",
       "      <td>HEGIC</td>\n",
       "      <td>v2</td>\n",
       "      <td>0.77%</td>\n",
       "      <td>$708,539</td>\n",
       "    </tr>\n",
       "  </tbody>\n",
       "</table>\n",
       "</div>"
      ],
      "text/plain": [
       "                              vault_name vault_type vault_apy  \\\n",
       "2021-04-19 04:38:37.925270  yveCRV - ETH         v1        0%   \n",
       "2021-04-19 04:38:37.932958        yveCRV         v1    19.16%   \n",
       "2021-04-19 04:38:37.937337          USDC         v2    16.48%   \n",
       "2021-04-19 04:38:37.942564         crvIB         v2    30.02%   \n",
       "2021-04-19 04:38:37.947768         HEGIC         v2     0.77%   \n",
       "\n",
       "                           vault_total_assets  \n",
       "2021-04-19 04:38:37.925270        $12,366,520  \n",
       "2021-04-19 04:38:37.932958                 $0  \n",
       "2021-04-19 04:38:37.937337       $125,785,880  \n",
       "2021-04-19 04:38:37.942564       $135,500,556  \n",
       "2021-04-19 04:38:37.947768           $708,539  "
      ]
     },
     "execution_count": 92,
     "metadata": {},
     "output_type": "execute_result"
    }
   ],
   "source": [
    "df = pd.read_csv('../yearn_scrapper/yearn_vaults_data.csv', index_col=0)\n",
    "df.head()"
   ]
  },
  {
   "cell_type": "code",
   "execution_count": 93,
   "metadata": {},
   "outputs": [
    {
     "data": {
      "text/plain": [
       "(1566, 4)"
      ]
     },
     "execution_count": 93,
     "metadata": {},
     "output_type": "execute_result"
    }
   ],
   "source": [
    "df.shape"
   ]
  },
  {
   "cell_type": "code",
   "execution_count": 94,
   "metadata": {},
   "outputs": [
    {
     "data": {
      "text/plain": [
       "0.00%     116\n",
       "NEW ✨      52\n",
       "0.77%      18\n",
       "5.44%      15\n",
       "0%          8\n",
       "         ... \n",
       "26.19%      1\n",
       "29.92%      1\n",
       "15.00%      1\n",
       "26.88%      1\n",
       "26.49%      1\n",
       "Name: vault_apy, Length: 1095, dtype: int64"
      ]
     },
     "execution_count": 94,
     "metadata": {},
     "output_type": "execute_result"
    }
   ],
   "source": [
    "df['vault_apy'].value_counts()"
   ]
  },
  {
   "cell_type": "code",
   "execution_count": 95,
   "metadata": {},
   "outputs": [],
   "source": [
    "def remove_pertge(x):\n",
    "    x = str(x).replace('%', '')\n",
    "    if '.' in x:\n",
    "        return float(x)\n",
    "    else:\n",
    "        return 0\n",
    "\n",
    "df.loc[:, 'vault_apy'] = df['vault_apy'].apply(lambda x: remove_pertge(x))"
   ]
  },
  {
   "cell_type": "code",
   "execution_count": 96,
   "metadata": {},
   "outputs": [
    {
     "data": {
      "text/plain": [
       "dtype('O')"
      ]
     },
     "execution_count": 96,
     "metadata": {},
     "output_type": "execute_result"
    }
   ],
   "source": [
    "df.index.dtype"
   ]
  },
  {
   "cell_type": "code",
   "execution_count": 97,
   "metadata": {},
   "outputs": [
    {
     "data": {
      "text/html": [
       "<div>\n",
       "<style scoped>\n",
       "    .dataframe tbody tr th:only-of-type {\n",
       "        vertical-align: middle;\n",
       "    }\n",
       "\n",
       "    .dataframe tbody tr th {\n",
       "        vertical-align: top;\n",
       "    }\n",
       "\n",
       "    .dataframe thead th {\n",
       "        text-align: right;\n",
       "    }\n",
       "</style>\n",
       "<table border=\"1\" class=\"dataframe\">\n",
       "  <thead>\n",
       "    <tr style=\"text-align: right;\">\n",
       "      <th></th>\n",
       "      <th>vault_name</th>\n",
       "      <th>vault_type</th>\n",
       "      <th>vault_apy</th>\n",
       "      <th>vault_total_assets</th>\n",
       "    </tr>\n",
       "    <tr>\n",
       "      <th>index</th>\n",
       "      <th></th>\n",
       "      <th></th>\n",
       "      <th></th>\n",
       "      <th></th>\n",
       "    </tr>\n",
       "  </thead>\n",
       "  <tbody>\n",
       "    <tr>\n",
       "      <th>2021-04-19</th>\n",
       "      <td>yveCRV - ETH</td>\n",
       "      <td>v1</td>\n",
       "      <td>0.00</td>\n",
       "      <td>$12,366,520</td>\n",
       "    </tr>\n",
       "    <tr>\n",
       "      <th>2021-04-19</th>\n",
       "      <td>yveCRV</td>\n",
       "      <td>v1</td>\n",
       "      <td>19.16</td>\n",
       "      <td>$0</td>\n",
       "    </tr>\n",
       "    <tr>\n",
       "      <th>2021-04-19</th>\n",
       "      <td>USDC</td>\n",
       "      <td>v2</td>\n",
       "      <td>16.48</td>\n",
       "      <td>$125,785,880</td>\n",
       "    </tr>\n",
       "    <tr>\n",
       "      <th>2021-04-19</th>\n",
       "      <td>crvIB</td>\n",
       "      <td>v2</td>\n",
       "      <td>30.02</td>\n",
       "      <td>$135,500,556</td>\n",
       "    </tr>\n",
       "    <tr>\n",
       "      <th>2021-04-19</th>\n",
       "      <td>HEGIC</td>\n",
       "      <td>v2</td>\n",
       "      <td>0.77</td>\n",
       "      <td>$708,539</td>\n",
       "    </tr>\n",
       "  </tbody>\n",
       "</table>\n",
       "</div>"
      ],
      "text/plain": [
       "              vault_name vault_type  vault_apy vault_total_assets\n",
       "index                                                            \n",
       "2021-04-19  yveCRV - ETH         v1       0.00        $12,366,520\n",
       "2021-04-19        yveCRV         v1      19.16                 $0\n",
       "2021-04-19          USDC         v2      16.48       $125,785,880\n",
       "2021-04-19         crvIB         v2      30.02       $135,500,556\n",
       "2021-04-19         HEGIC         v2       0.77           $708,539"
      ]
     },
     "execution_count": 97,
     "metadata": {},
     "output_type": "execute_result"
    }
   ],
   "source": [
    "def remove_time(x):\n",
    "    return str(x).split(' ')[0]\n",
    "\n",
    "df = df.reset_index()\n",
    "df.loc[:, 'index'] = df['index'].apply(lambda x: remove_time(x))\n",
    "df = df.set_index('index')\n",
    "df.head()"
   ]
  },
  {
   "cell_type": "code",
   "execution_count": 99,
   "metadata": {},
   "outputs": [
    {
     "data": {
      "text/plain": [
       "v1    795\n",
       "v2    771\n",
       "Name: vault_type, dtype: int64"
      ]
     },
     "execution_count": 99,
     "metadata": {},
     "output_type": "execute_result"
    }
   ],
   "source": [
    "df['vault_type'].value_counts()"
   ]
  },
  {
   "cell_type": "code",
   "execution_count": 98,
   "metadata": {
    "scrolled": true
   },
   "outputs": [
    {
     "data": {
      "text/plain": [
       "['yveCRV - ETH',\n",
       " 'yveCRV',\n",
       " 'USDC',\n",
       " 'crvIB',\n",
       " 'HEGIC',\n",
       " 'crvHBTC',\n",
       " 'crvRENBTC',\n",
       " 'DAI',\n",
       " '1INCH',\n",
       " 'WETH',\n",
       " 'WBTC',\n",
       " 'crvSETH',\n",
       " 'crvSTETH',\n",
       " 'YFI',\n",
       " 'crvSBTC',\n",
       " 'ETH',\n",
       " 'crvMUSD',\n",
       " 'yCRV',\n",
       " 'crvGUSD',\n",
       " 'crvAAVE',\n",
       " 'crvSAAVE',\n",
       " 'crvDUSD',\n",
       " 'crvUSDN',\n",
       " 'crvCOMP',\n",
       " 'crvUST',\n",
       " 'crvLINK',\n",
       " '3Crv',\n",
       " 'crvOBTC',\n",
       " 'crvSUSD',\n",
       " 'USDT',\n",
       " 'crvPBTC',\n",
       " 'crvEURS',\n",
       " 'crvTBTC',\n",
       " 'crvHUSD',\n",
       " 'TUSD',\n",
       " 'crvBBTC',\n",
       " 'LINK',\n",
       " 'crvUSDP',\n",
       " 'crvBUSD',\n",
       " 'crvANKR',\n",
       " 'aLINK',\n",
       " 'mUSD',\n",
       " 'LUSD3CRV-f',\n",
       " 'crvLUSD',\n",
       " 'yvBOOST',\n",
       " 'yvBOOST - ETH',\n",
       " 'crvFRAX',\n",
       " 'UNI',\n",
       " 'crvYBUSD',\n",
       " 'crvAETH',\n",
       " 'crvTUSD',\n",
       " 'sUSD',\n",
       " 'SNX']"
      ]
     },
     "execution_count": 98,
     "metadata": {},
     "output_type": "execute_result"
    }
   ],
   "source": [
    "list(df['vault_name'].drop_duplicates())"
   ]
  },
  {
   "cell_type": "code",
   "execution_count": 106,
   "metadata": {},
   "outputs": [
    {
     "data": {
      "text/plain": [
       "Index(['Date', 'Vault Name', 'Vault Type', 'Vault Apy', 'Vault Total Assets'], dtype='object')"
      ]
     },
     "execution_count": 106,
     "metadata": {},
     "output_type": "execute_result"
    }
   ],
   "source": [
    "df = df.reset_index()\n",
    "df.columns = ['Date', 'Vault Name', 'Vault Type', 'Vault Apy', 'Vault Total Assets']\n",
    "df.columns"
   ]
  },
  {
   "cell_type": "code",
   "execution_count": 103,
   "metadata": {},
   "outputs": [],
   "source": [
    "select = st.sidebar.selectbox('V2 Vaults Name', list(df[df['Vault Type']=='v2']['Vault Name'].drop_duplicates()), key='1')\n",
    "if not st.sidebar.checkbox(\"Hide\", True, key='1'):\n",
    "    \n",
    "    fig = px.line(df[df['Vault Name']==select], x=\"Date\", y=\"Vault Apy\")\n",
    "    st.plotly_chart(fig)\n",
    "    st.title(\"Vault \" + str(select) + \" APY plot\")\n",
    "    \n",
    "#      if select == 'Pie chart':\n",
    "#                          st.title(\"Selected top 5 cities\")\n",
    "#                   fig = px.pie(df, values=df['Confirmed'][:5], names=df['State'][:5], title='Total Confirmed Cases')\n",
    "#              st.plotly_chart(fig)\n",
    "\n",
    "#                        if select=='Bar plot':\n",
    "#         st.title(\"Selected Top 5 Cities\")\n",
    "#         fig = go.Figure(data=[\n",
    "#         go.Bar(name='Confirmed', x=df['State'][:5], y=df['Confirmed'][:5]),\n",
    "#         go.Bar(name='Recovered', x=df['State'][:5], y=df['Recovered'][:5]),\n",
    "#         go.Bar(name='Active', x=df['State'][:5], y=df['Active'][:5])])\n",
    "#         st.plotly_chart(fig)"
   ]
  },
  {
   "cell_type": "code",
   "execution_count": null,
   "metadata": {},
   "outputs": [],
   "source": [
    "select1 = st.sidebar.selectbox('V1 Vaults Name', list(df[df['Vault Type']=='v1']['Vault Name'].drop_duplicates()), key='2')\n",
    "if not st.sidebar.checkbox(\"Hide\", True, key='2'):\n",
    "    \n",
    "    fig = px.line(df[df['Vault Name']==select1], x=\"Date\", y=\"Vault Apy\")\n",
    "    st.plotly_chart(fig)\n",
    "    st.title(\"Vault \" + str(select1) + \" APY plot\")\n",
    "    \n",
    "#      if select == 'Pie chart':\n",
    "#                          st.title(\"Selected top 5 cities\")\n",
    "#                   fig = px.pie(df, values=df['Confirmed'][:5], names=df['State'][:5], title='Total Confirmed Cases')\n",
    "#              st.plotly_chart(fig)\n",
    "\n",
    "#                        if select=='Bar plot':\n",
    "#         st.title(\"Selected Top 5 Cities\")\n",
    "#         fig = go.Figure(data=[\n",
    "#         go.Bar(name='Confirmed', x=df['State'][:5], y=df['Confirmed'][:5]),\n",
    "#         go.Bar(name='Recovered', x=df['State'][:5], y=df['Recovered'][:5]),\n",
    "#         go.Bar(name='Active', x=df['State'][:5], y=df['Active'][:5])])\n",
    "#         st.plotly_chart(fig)"
   ]
  },
  {
   "cell_type": "code",
   "execution_count": 102,
   "metadata": {},
   "outputs": [],
   "source": [
    "# # sns.set(rc={\"figure.figsize\": (8, 4)})\n",
    "# fig, ax = plt.subplots(figsize=(15,8))\n",
    "# ax = df[df['vault_name']=='yveCRV']['vault_apy'].plot(ax=ax)\n",
    "# plt.xticks(rotation=90)\n",
    "\n",
    "# print(ax.patches, ax.containers)\n",
    "\n",
    "# # def annotate_df(row):\n",
    "# # #     print(row)\n",
    "# #     ax.annotate(row[0], row[3],\n",
    "# #                 xytext=(10,-5), \n",
    "# #                 textcoords='offset points',\n",
    "# #                 size=18, \n",
    "# #                 color='darkslategrey')\n",
    "    \n",
    "# # _ = df.reset_index().apply(annotate_df, axis=1)\n",
    "\n",
    "# for row in df[df['vault_name']=='yveCRV'].iterrows():\n",
    "# #     print(row[0], row[1][2])\n",
    "#     ax.annotate(str(row[0]), int(row[1][2]))"
   ]
  },
  {
   "cell_type": "code",
   "execution_count": null,
   "metadata": {},
   "outputs": [],
   "source": []
  }
 ],
 "metadata": {
  "kernelspec": {
   "display_name": "Python 3",
   "language": "python",
   "name": "python3"
  },
  "language_info": {
   "codemirror_mode": {
    "name": "ipython",
    "version": 3
   },
   "file_extension": ".py",
   "mimetype": "text/x-python",
   "name": "python",
   "nbconvert_exporter": "python",
   "pygments_lexer": "ipython3",
   "version": "3.8.5"
  }
 },
 "nbformat": 4,
 "nbformat_minor": 4
}
